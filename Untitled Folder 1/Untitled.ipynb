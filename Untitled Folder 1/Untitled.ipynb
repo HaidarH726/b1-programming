{
 "cells": [
  {
   "cell_type": "code",
   "execution_count": 3,
   "id": "a6f8a660-b238-48cc-b024-dd2306089379",
   "metadata": {},
   "outputs": [
    {
     "data": {
      "text/plain": [
       "18000"
      ]
     },
     "execution_count": 3,
     "metadata": {},
     "output_type": "execute_result"
    }
   ],
   "source": [
    "revenue = 50000\n",
    "expenses = 32000\n",
    "revenue - expenses\n"
   ]
  },
  {
   "cell_type": "code",
   "execution_count": null,
   "id": "0ed8180c-2999-4213-967a-2ee8f1148aed",
   "metadata": {},
   "outputs": [],
   "source": []
  }
 ],
 "metadata": {
  "kernelspec": {
   "display_name": "Python 3 (ipykernel)",
   "language": "python",
   "name": "python3"
  },
  "language_info": {
   "codemirror_mode": {
    "name": "ipython",
    "version": 3
   },
   "file_extension": ".py",
   "mimetype": "text/x-python",
   "name": "python",
   "nbconvert_exporter": "python",
   "pygments_lexer": "ipython3",
   "version": "3.14.0"
  }
 },
 "nbformat": 4,
 "nbformat_minor": 5
}
